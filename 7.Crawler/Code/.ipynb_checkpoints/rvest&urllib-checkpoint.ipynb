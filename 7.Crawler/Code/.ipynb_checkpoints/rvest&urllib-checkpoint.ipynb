{
 "cells": [
  {
   "cell_type": "markdown",
   "metadata": {},
   "source": [
    "# rvest & urllib2 简介\n",
    "\n",
    "Fibears\n",
    "\n",
    "2016.03.29"
   ]
  },
  {
   "cell_type": "code",
   "execution_count": 2,
   "metadata": {
    "collapsed": false
   },
   "outputs": [],
   "source": [
    "# 载入rpy2.ipython\n",
    "# rpy2提供了Python和R之间的交互环境\n",
    "%load_ext rpy2.ipython"
   ]
  },
  {
   "cell_type": "markdown",
   "metadata": {},
   "source": [
    "## rvest\n",
    "rvest是大神Hadley的作品，对于结构比较良好的网页，利用rvest, CSS/XPath选择器和管道符号来处理效率最高。"
   ]
  },
  {
   "cell_type": "markdown",
   "metadata": {},
   "source": [
    "rvest包里面主要有以下几个函数：\n",
    "\n",
    "- `read_html(x, ..., encoding = \"\", as_html = FALSE)`: 既可以从网络中获取html文档，也可以从本地中载入html文档；\n",
    "- `html_nodes(x, css, xpath)`: 利用css和xpath选择器从html文档中提取出节点信息；\n",
    "- `html_text(x)`: 提取所有满足条件的文本信息；\n",
    "- `html_attrs(x)`: 提取所有满足条件的属性信息；\n",
    "- `html_table(x, header = NA, trim = TRUE, fill = FALSE, dec = \".\")`: 提取表格信息；\n",
    "- `html_session(), jump_to(), follow_link(), back(), forward()`: 这些都是用于模拟浏览网站"
   ]
  },
  {
   "cell_type": "code",
   "execution_count": 3,
   "metadata": {
    "collapsed": false
   },
   "outputs": [
    {
     "name": "stderr",
     "output_type": "stream",
     "text": [
      "/anaconda/lib/python2.7/site-packages/rpy2/robjects/functions.py:106: UserWarning: 载入需要的程辑包：xml2\n",
      "\n",
      "  res = super(Function, self).__call__(*new_args, **new_kwargs)\n"
     ]
    }
   ],
   "source": [
    "%%R\n",
    "library(rvest)\n",
    "# vignette(\"selectorgadget\")\n",
    "lego_movie <- read_html(\"http://www.imdb.com/title/tt1490017/\")"
   ]
  },
  {
   "cell_type": "code",
   "execution_count": 4,
   "metadata": {
    "collapsed": false
   },
   "outputs": [
    {
     "data": {
      "text/plain": [
       "{xml_document}\n",
       "<html>\n",
       "[1] <head>\\n        <meta charset=\"utf-8\"/>\\n        <meta http-equiv=\"X-UA-C ...\n",
       "[2] <body id=\"styleguide-v2\" class=\"fixed\">\\n<script><![CDATA[\\n    if (typeo ...\n"
      ]
     },
     "metadata": {},
     "output_type": "display_data"
    }
   ],
   "source": [
    "%%R\n",
    "lego_movie"
   ]
  },
  {
   "cell_type": "code",
   "execution_count": 8,
   "metadata": {
    "collapsed": false
   },
   "outputs": [
    {
     "data": {
      "text/plain": [
       "{xml_nodeset (1)}\n",
       "[1] <span itemprop=\"ratingValue\">7.8</span>\n"
      ]
     },
     "metadata": {},
     "output_type": "display_data"
    }
   ],
   "source": [
    "%%R\n",
    "rating <- lego_movie %>% \n",
    "    html_nodes(\"strong span\")\n",
    "rating"
   ]
  },
  {
   "cell_type": "code",
   "execution_count": 9,
   "metadata": {
    "collapsed": false
   },
   "outputs": [
    {
     "data": {
      "text/plain": [
       " [1] \"Will Arnett\"     \"Elizabeth Banks\" \"Craig Berry\"     \"Alison Brie\"    \n",
       " [5] \"David Burrows\"   \"Anthony Daniels\" \"Charlie Day\"     \"Amanda Farinos\" \n",
       " [9] \"Keith Ferguson\"  \"Will Ferrell\"    \"Will Forte\"      \"Dave Franco\"    \n",
       "[13] \"Morgan Freeman\"  \"Todd Hansen\"     \"Jonah Hill\"     \n"
      ]
     },
     "metadata": {},
     "output_type": "display_data"
    }
   ],
   "source": [
    "%%R\n",
    "cast <- lego_movie %>%\n",
    "    html_nodes(\"#titleCast .itemprop span\") %>%\n",
    "    html_text()\n",
    "cast"
   ]
  },
  {
   "cell_type": "code",
   "execution_count": 10,
   "metadata": {
    "collapsed": false
   },
   "outputs": [
    {
     "data": {
      "text/plain": [
       "[1] \"http://ia.media-imdb.com/images/M/MV5BMTg4MDk1ODExN15BMl5BanBnXkFtZTgwNzIyNjg3MDE@._V1_UX182_CR0,0,182,268_AL_.jpg\"\n"
      ]
     },
     "metadata": {},
     "output_type": "display_data"
    }
   ],
   "source": [
    "%%R\n",
    "poster <- lego_movie %>%\n",
    "    html_nodes(xpath=\"//div[@class='poster']/a/img\") %>%\n",
    "    html_attr(\"src\")\n",
    "poster"
   ]
  },
  {
   "cell_type": "markdown",
   "metadata": {},
   "source": [
    "## urllib*模块"
   ]
  },
  {
   "cell_type": "markdown",
   "metadata": {},
   "source": [
    "首先，urllib*中包含了urllib, urllib2和urllib3等几个模块。其中urllib3是第三方扩展模块，所以在这里我们只讨论前两个Python自带模块。那么这两个模块之间到底有何区别呢？"
   ]
  },
  {
   "cell_type": "markdown",
   "metadata": {},
   "source": [
    "官方文档对urllib和urllib2分别是这样描述的：“通过url打开任意资源”和“打开url的拓展库”。urllib2主要用于处理一些更复杂的操作，比如操作相关的一些认证、重定向和cookie等等。"
   ]
  },
  {
   "cell_type": "markdown",
   "metadata": {},
   "source": [
    "### urllib模块"
   ]
  },
  {
   "cell_type": "markdown",
   "metadata": {},
   "source": [
    "urllib模块中主要有以下几个方法：\n",
    "\n",
    "- urllib.urlopen(url, data, proxies): 向url发出一个请求，并获取服务器返回的文件对象；\n",
    "\n"
   ]
  },
  {
   "cell_type": "code",
   "execution_count": 11,
   "metadata": {
    "collapsed": false
   },
   "outputs": [
    {
     "data": {
      "text/plain": [
       "'<!doctype html>\\n'"
      ]
     },
     "execution_count": 11,
     "metadata": {},
     "output_type": "execute_result"
    }
   ],
   "source": [
    "import urllib\n",
    "f = urllib.urlopen('http://www.baidu.com')\n",
    "firstLine = f.readline()\n",
    "firstLine"
   ]
  },
  {
   "cell_type": "markdown",
   "metadata": {},
   "source": [
    "- urllib.urlretrieve(url, filename, reporthook, data): 将url对应的html文件下载到本地电脑中；"
   ]
  },
  {
   "cell_type": "code",
   "execution_count": 12,
   "metadata": {
    "collapsed": false
   },
   "outputs": [
    {
     "data": {
      "text/plain": [
       "('baidu.html', <httplib.HTTPMessage instance at 0x115da2830>)"
      ]
     },
     "execution_count": 12,
     "metadata": {},
     "output_type": "execute_result"
    }
   ],
   "source": [
    "file = urllib.urlretrieve('http://www.baidu.com/', filename='baidu.html')\n",
    "file"
   ]
  },
  {
   "cell_type": "markdown",
   "metadata": {},
   "source": [
    "- quote(): 将url中的特殊字符或汉字encode成指定编码；"
   ]
  },
  {
   "cell_type": "markdown",
   "metadata": {},
   "source": [
    "- unquote(): 将url中的url编码解码；"
   ]
  },
  {
   "cell_type": "markdown",
   "metadata": {},
   "source": [
    "- urllib.urlencode(query): 将URL中的数据对以连接符&连接起来，作为post方法和get方法的请求参数"
   ]
  },
  {
   "cell_type": "code",
   "execution_count": 13,
   "metadata": {
    "collapsed": false
   },
   "outputs": [
    {
     "data": {
      "text/plain": [
       "'%E7%BB%8F%E6%B5%8E%E5%AD%A6%E9%99%A2'"
      ]
     },
     "execution_count": 13,
     "metadata": {},
     "output_type": "execute_result"
    }
   ],
   "source": [
    "urllib.quote('经济学院')"
   ]
  },
  {
   "cell_type": "code",
   "execution_count": 14,
   "metadata": {
    "collapsed": false
   },
   "outputs": [
    {
     "name": "stdout",
     "output_type": "stream",
     "text": [
      "经济学院\n"
     ]
    }
   ],
   "source": [
    "print urllib.unquote('%E7%BB%8F%E6%B5%8E%E5%AD%A6%E9%99%A2')"
   ]
  },
  {
   "cell_type": "code",
   "execution_count": 16,
   "metadata": {
    "collapsed": false
   },
   "outputs": [
    {
     "data": {
      "text/plain": [
       "'UserName=fibears&PassWd=123456'"
      ]
     },
     "execution_count": 16,
     "metadata": {},
     "output_type": "execute_result"
    }
   ],
   "source": [
    "Data = urllib.urlencode({'UserName':'fibears','PassWd':123456})\n",
    "Data"
   ]
  },
  {
   "cell_type": "code",
   "execution_count": 11,
   "metadata": {
    "collapsed": false
   },
   "outputs": [],
   "source": [
    "# GET 方法\n",
    "# GET方式是直接以链接形式访问，链接中包含了所有的参数。\n",
    "response = urllib.urlopen(\"http://event.wisesoe.com/Logon.aspx\" + '?' + Data)\n",
    "# response.read()"
   ]
  },
  {
   "cell_type": "code",
   "execution_count": 17,
   "metadata": {
    "collapsed": false
   },
   "outputs": [
    {
     "data": {
      "text/plain": [
       "'http://event.wisesoe.com/Logon.aspx?UserName=fibears&PassWd=123456'"
      ]
     },
     "execution_count": 17,
     "metadata": {},
     "output_type": "execute_result"
    }
   ],
   "source": [
    "\"http://event.wisesoe.com/Logon.aspx\" + '?' + Data"
   ]
  },
  {
   "cell_type": "code",
   "execution_count": 13,
   "metadata": {
    "collapsed": false
   },
   "outputs": [],
   "source": [
    "# POST 方法\n",
    "# POST将参数以变量的形式传递给处理器，所以不会在网址上显示所有的参数。\n",
    "response = urllib.urlopen(\"http://event.wisesoe.com/Logon.aspx\",Data)\n",
    "# response.read()"
   ]
  },
  {
   "cell_type": "markdown",
   "metadata": {},
   "source": [
    "### urllib2模块 "
   ]
  },
  {
   "cell_type": "markdown",
   "metadata": {},
   "source": [
    "urllib2模块中主要有以下几个方法：\n",
    "\n"
   ]
  },
  {
   "cell_type": "markdown",
   "metadata": {},
   "source": [
    "- urllib2.urlopen(url, data, timeout): 向url发出一个请求，并获取服务器返回的文件对象，该方法还可以接受一个Request类的实例；"
   ]
  },
  {
   "cell_type": "code",
   "execution_count": 5,
   "metadata": {
    "collapsed": false
   },
   "outputs": [],
   "source": [
    "import urllib2\n",
    "response1 = urllib2.urlopen(\"http://www.baidu.com\")\n",
    "# print response1.read()"
   ]
  },
  {
   "cell_type": "markdown",
   "metadata": {},
   "source": [
    "- urllib2.Request(url, data, headers): 构建一个请求(request)对象;"
   ]
  },
  {
   "cell_type": "code",
   "execution_count": 6,
   "metadata": {
    "collapsed": false
   },
   "outputs": [],
   "source": [
    "request = urllib2.Request('http://www.baidu.com')\n",
    "response2 = urllib2.urlopen(request)\n",
    "# print response2.read()"
   ]
  },
  {
   "cell_type": "code",
   "execution_count": 16,
   "metadata": {
    "collapsed": false
   },
   "outputs": [
    {
     "name": "stdout",
     "output_type": "stream",
     "text": [
      "http://event.wisesoe.com/Logon.aspx?UserName=fibears&PassWd=123456\n"
     ]
    }
   ],
   "source": [
    "# GET 方法\n",
    "Data = urllib.urlencode({'UserName':'fibears','PassWd':123456})\n",
    "GetUrl = \"http://event.wisesoe.com/Logon.aspx\" + '?' + Data\n",
    "print GetUrl\n",
    "request = urllib2.Request(GetUrl)\n",
    "response = urllib2.urlopen(request)"
   ]
  },
  {
   "cell_type": "code",
   "execution_count": 17,
   "metadata": {
    "collapsed": true
   },
   "outputs": [],
   "source": [
    "# POST 方法\n",
    "Data = urllib.urlencode({'UserName':'fibears','PassWd':123456})\n",
    "Url = \"http://event.wisesoe.com/Logon.aspx\"\n",
    "request = urllib2.Request(Url, Data)\n",
    "response = urllib2.urlopen(request)"
   ]
  },
  {
   "cell_type": "markdown",
   "metadata": {},
   "source": [
    "有些网站不会同意程序直接用上面的方式进行访问，站点根本不会响应我们所发出的简单请求，所以为了完全模拟浏览器的工作，我们需要设置一些Headers的属性。以下是几个常用的 Headers 属性：\n",
    "- \"User-Agent\": 表明了你的浏览器版本和系统信息;\n",
    "- \"Host\": 代表基本的主机名；\n",
    "- \"Cookie\": 浏览器所存储的Cookie信息；\n",
    "- \"Referer\": 主要用于让服务器判断来源页面, 即用户是从哪个页面跳转过来的；"
   ]
  },
  {
   "cell_type": "code",
   "execution_count": 18,
   "metadata": {
    "collapsed": true
   },
   "outputs": [],
   "source": [
    "Data = urllib.urlencode({'UserName':'fibears','PassWd':123456})\n",
    "user_agent = 'Mozilla/5.0 (Macintosh; Intel Mac OS X 10.11; rv:45.0) Gecko/20100101 Firefox/45.0'\n",
    "headers = {'User-Agent' : user_agent,\n",
    "          'Referer': 'http://event.wisesoe.com/Authenticate.aspx?returnUrl=/LectureOrder.aspx'}\n",
    "Url = \"http://event.wisesoe.com/LectureOrder.aspx\"\n",
    "request = urllib2.Request(Url, Data, headers)\n",
    "response = urllib2.urlopen(request)"
   ]
  },
  {
   "cell_type": "markdown",
   "metadata": {},
   "source": [
    "有的网站会检测某一段时间内某个 IP 访问网页的次数，如果访问过于频数，它会禁止该 IP 对网页的访问。这种情况下，我们通常有两种处理办法，一是设置延迟机制，降低爬虫程序发出请求的频率；二是设置代理服务器，每隔一段时间更换一个代理，这样就不会被躲过网站的检测机制。我们可以利用urllib2.ProxyHandler方法来设置代理：\n",
    "\n",
    "- urllib2.ProxyHandler({\"http\" : 'http://some-proxy.com:8080'})"
   ]
  },
  {
   "cell_type": "code",
   "execution_count": 19,
   "metadata": {
    "collapsed": true
   },
   "outputs": [],
   "source": [
    "# 设置代理\n",
    "import urllib2\n",
    "\n",
    "proxy_handler = urllib2.ProxyHandler({\"http\" : 'http://some-proxy.com:8080'})\n",
    "opener = urllib2.build_opener(proxy_handler)\n",
    "# urllib2.install_opener(opener)"
   ]
  },
  {
   "cell_type": "markdown",
   "metadata": {},
   "source": [
    "## Cookie的使用方法"
   ]
  },
  {
   "cell_type": "markdown",
   "metadata": {
    "collapsed": true
   },
   "source": [
    "Cookie指某些网站为了辨别用户身份、进行session跟踪而储存在用户本地终端上的数据。\n",
    "\n",
    "有些网站需要登录后才能访问某个页面，在登录之前，我们无法获取网页的内容。这种情况下我们可以利用urllib2库保存登录网页的Cookie，然后再利用该Cookie来抓取其他页面。\n",
    "\n",
    "**步骤：**\n",
    "\n",
    "- 构建一个带有Cookie的处理器\n",
    "- 模拟登陆网页\n",
    "- 获取Cookie\n",
    "- 将Cookie保存到本地\n",
    "- 读取Cookie并构建用于访问网页的opener\n",
    "- 发出HTTP请求，并得到返回的响应文件"
   ]
  },
  {
   "cell_type": "code",
   "execution_count": 8,
   "metadata": {
    "collapsed": false
   },
   "outputs": [
    {
     "name": "stdout",
     "output_type": "stream",
     "text": [
      "<MozillaCookieJar[<Cookie ASP.NET_SessionId=z253wmqahthos4ia3ivwqyv4 for event.wisesoe.com/>]>\n"
     ]
    }
   ],
   "source": [
    "import urllib\n",
    "import urllib2\n",
    "import cookielib\n",
    "\n",
    "# 声明cookie文件的存储路径\n",
    "CookieFile = \"cookie.txt\"\n",
    "\n",
    "# 构建一个MozillaCookieJar对象来保存cookie文件\n",
    "cookie = cookielib.MozillaCookieJar(CookieFile)\n",
    "\n",
    "# urlopen()方法就是一个特殊的opener\n",
    "# 构建一个带有Cookie的处理器opener\n",
    "opener = urllib2.build_opener(urllib2.HTTPCookieProcessor(cookie))\n",
    "\n",
    "# 利用处理器opener发出HTTP请求\n",
    "Data = urllib.urlencode({'UserName':'fibears','PassWd':123456})\n",
    "user_agent = 'Mozilla/5.0 (Macintosh; Intel Mac OS X 10.11; rv:45.0) Gecko/20100101 Firefox/45.0'\n",
    "headers = {'User-Agent' : user_agent,\n",
    "          'Referer': 'http://event.wisesoe.com/Authenticate.aspx?returnUrl=/LectureOrder.aspx'}\n",
    "LectureUrl = \"http://event.wisesoe.com/LectureOrder.aspx\"\n",
    "request = urllib2.Request(LectureUrl, Data, headers)\n",
    "response = opener.open(request)\n",
    "print cookie\n",
    "\n",
    "# 将Cookie保存到本地\n",
    "# ignore_discard: 即使浏览网页过程中cookie被丢弃也将其保存下来\n",
    "# ignore_expires: 对于文件中已经存在的cookie，将其覆盖并写入新的信息\n",
    "cookie.save(ignore_discard=True, ignore_expires=True)\n",
    "\n",
    "# 读取Cookie并构建用于访问网页的opener\n",
    "cookie = cookielib.MozillaCookieJar()\n",
    "cookie.load('cookie.txt', ignore_discard=True, ignore_expires=True)\n",
    "opener = urllib2.build_opener(urllib2.HTTPCookieProcessor(cookie))\n",
    "\n",
    "# 发出HTTP请求，并得到返回的响应文件\n",
    "request = urllib2.Request(LectureUrl, Data, headers)\n",
    "response = opener.open(request)\n",
    "# print response.read()"
   ]
  },
  {
   "cell_type": "markdown",
   "metadata": {},
   "source": []
  },
  {
   "cell_type": "markdown",
   "metadata": {},
   "source": [
    "# 豆瓣电影爬虫程序"
   ]
  },
  {
   "cell_type": "markdown",
   "metadata": {},
   "source": [
    "接下来我以结构比较简单的豆瓣网站为例，分别介绍如何利用rvest和urllib2从网上爬取数据。"
   ]
  },
  {
   "cell_type": "code",
   "execution_count": 21,
   "metadata": {
    "collapsed": false
   },
   "outputs": [
    {
     "name": "stderr",
     "output_type": "stream",
     "text": [
      "/anaconda/lib/python2.7/site-packages/rpy2/robjects/functions.py:106: UserWarning: 载入需要的程辑包：bitops\n",
      "\n",
      "  res = super(Function, self).__call__(*new_args, **new_kwargs)\n",
      "/anaconda/lib/python2.7/site-packages/rpy2/robjects/functions.py:106: UserWarning: \n",
      "载入程辑包：‘dplyr’\n",
      "\n",
      "\n",
      "  res = super(Function, self).__call__(*new_args, **new_kwargs)\n",
      "/anaconda/lib/python2.7/site-packages/rpy2/robjects/functions.py:106: UserWarning: The following objects are masked from ‘package:plyr’:\n",
      "\n",
      "    arrange, count, desc, failwith, id, mutate, rename, summarise,\n",
      "    summarize\n",
      "\n",
      "\n",
      "  res = super(Function, self).__call__(*new_args, **new_kwargs)\n",
      "/anaconda/lib/python2.7/site-packages/rpy2/robjects/functions.py:106: UserWarning: The following objects are masked from ‘package:stats’:\n",
      "\n",
      "    filter, lag\n",
      "\n",
      "\n",
      "  res = super(Function, self).__call__(*new_args, **new_kwargs)\n",
      "/anaconda/lib/python2.7/site-packages/rpy2/robjects/functions.py:106: UserWarning: The following objects are masked from ‘package:base’:\n",
      "\n",
      "    intersect, setdiff, setequal, union\n",
      "\n",
      "\n",
      "  res = super(Function, self).__call__(*new_args, **new_kwargs)\n"
     ]
    }
   ],
   "source": [
    "%%R\n",
    "library(RCurl)\n",
    "library(rvest)\n",
    "library(stringr)\n",
    "library(plyr)\n",
    "library(dplyr)"
   ]
  },
  {
   "cell_type": "code",
   "execution_count": 23,
   "metadata": {
    "collapsed": false
   },
   "outputs": [
    {
     "data": {
      "text/plain": [
       " [1] \"http://movie.douban.com/top250\"                  \n",
       " [2] \"http://movie.douban.com/top250?start=25&filter=\" \n",
       " [3] \"http://movie.douban.com/top250?start=50&filter=\" \n",
       " [4] \"http://movie.douban.com/top250?start=75&filter=\" \n",
       " [5] \"http://movie.douban.com/top250?start=100&filter=\"\n",
       " [6] \"http://movie.douban.com/top250?start=125&filter=\"\n",
       " [7] \"http://movie.douban.com/top250?start=150&filter=\"\n",
       " [8] \"http://movie.douban.com/top250?start=175&filter=\"\n",
       " [9] \"http://movie.douban.com/top250?start=200&filter=\"\n",
       "[10] \"http://movie.douban.com/top250?start=225&filter=\"\n"
      ]
     },
     "metadata": {},
     "output_type": "display_data"
    }
   ],
   "source": [
    "%%R\n",
    "# 爬取豆瓣电影TOP250的数据\n",
    "# 获取豆瓣电影首页URL\n",
    "DoubanUrl <- 'http://movie.douban.com/top250'\n",
    "\n",
    "# 从首页中获取所有页面的URL\n",
    "PageUrlList <- read_html(DoubanUrl) %>% \n",
    "    html_nodes(xpath = \"//div[@class='paginator']/a\") %>% \n",
    "    html_attr(\"href\") %>% \n",
    "    str_c(DoubanUrl, ., sep=\"\") %>% c(DoubanUrl,.)\n",
    "PageUrlList"
   ]
  },
  {
   "cell_type": "code",
   "execution_count": 25,
   "metadata": {
    "collapsed": false
   },
   "outputs": [
    {
     "data": {
      "text/plain": [
       "[1] \"https://movie.douban.com/subject/1292052\"\n",
       "[2] \"https://movie.douban.com/subject/1295644\"\n",
       "[3] \"https://movie.douban.com/subject/1292720\"\n",
       "[4] \"https://movie.douban.com/subject/1291546\"\n",
       "[5] \"https://movie.douban.com/subject/1292063\"\n"
      ]
     },
     "metadata": {},
     "output_type": "display_data"
    }
   ],
   "source": [
    "%%R\n",
    "# 从每个PageUrl中提取出每部电影的链接\n",
    "MovieUrl <-  NULL\n",
    "for (url in PageUrlList) {\n",
    "    item = read_html(url) %>% \n",
    "        html_nodes(xpath=\"//div[@class='hd']/a\") %>% \n",
    "        html_attrs(\"href\")\n",
    "    MovieUrl = c(MovieUrl, item)\n",
    "}\n",
    "head(MovieUrl,5)"
   ]
  },
  {
   "cell_type": "code",
   "execution_count": 24,
   "metadata": {
    "collapsed": true
   },
   "outputs": [],
   "source": [
    "%%R\n",
    "# 从每个MovieUrl中提取出最终的数据\n",
    "## 定义函数Getdata，用于获取数据并输出dataframe格式\n",
    "GetImdbScore <- function(url){\n",
    "    ImdbScore = read_html(url) %>% \n",
    "        html_nodes(xpath = \"//span[@itemprop='ratingValue']/text()\") %>% \n",
    "        html_text()\n",
    "    return(ImdbScore)\n",
    "}\n",
    "Getdata <- function(url){\n",
    "    Movie = url\n",
    "    if(url.exists(url)){\n",
    "        MovieHTML = read_html(url, encoding = 'UTF-8')\n",
    "        Rank = html_nodes(MovieHTML, xpath = \"//span[@class='top250-no']/text()\") %>% html_text()\n",
    "        MovieName = html_nodes(MovieHTML, xpath = \"//span[@property='v:itemreviewed']/text()\") %>% html_text()\n",
    "        Director = html_nodes(MovieHTML, xpath = \"//a[@rel='v:directedBy']/text()\") %>% \n",
    "            html_text() %>% paste(collapse = \";\")\n",
    "        Type = html_nodes(MovieHTML, xpath = \"//span[@property='v:genre']/text()\") %>% \n",
    "            html_text() %>% paste(collapse = \";\")\n",
    "        Score = html_nodes(MovieHTML, xpath = \"//strong[@property='v:average']/text()\") %>% html_text()\n",
    "        ImdbUrl = html_nodes(MovieHTML, xpath = \"//a[contains(@href,'imdb')]/@href\") %>% html_text()\n",
    "        ImdbScore = GetImdbScore(ImdbUrl) \n",
    "        Description = html_nodes(MovieHTML, xpath = \"//span[@property='v:summary']/text()\") %>% \n",
    "            html_text() %>% str_replace(\"\\n[\\\\s]+\", \"\") %>% paste(collapse = \";\")\n",
    "        data.frame(Rank, Movie, MovieName, Director, Type, Score, ImdbScore, Description)\n",
    "    }\n",
    "}"
   ]
  },
  {
   "cell_type": "code",
   "execution_count": 25,
   "metadata": {
    "collapsed": false
   },
   "outputs": [
    {
     "name": "stdout",
     "output_type": "stream",
     "text": [
      "\n",
      "Error in Getdata(MovieUrl[i]) : 找不到对象'MovieUrl'\n"
     ]
    },
    {
     "name": "stderr",
     "output_type": "stream",
     "text": [
      "/anaconda/lib/python2.7/site-packages/rpy2/robjects/functions.py:106: UserWarning: Error in Getdata(MovieUrl[i]) : 找不到对象'MovieUrl'\n",
      "\n",
      "  res = super(Function, self).__call__(*new_args, **new_kwargs)\n"
     ]
    }
   ],
   "source": [
    "%%R\n",
    "## 抓取数据\n",
    "Douban250 <- data.frame()\n",
    "for (i in 1:2) {\n",
    "    Douban250 = rbind(Douban250, Getdata(MovieUrl[i]))\n",
    "    print(paste(\"Movie\",i,sep = \"-\"))\n",
    "    Sys.sleep(round(runif(1,1,3)))\n",
    "}\n",
    "Douban250\n",
    "# for (i in 1:length(MovieUrl)) {\n",
    "#     Douban250 = rbind(Douban250, Getdata(MovieUrl[i]))\n",
    "#     print(paste(\"Movie\",i,sep = \"-\"))\n",
    "#     Sys.sleep(round(runif(1,1,3)))\n",
    "# }\n"
   ]
  },
  {
   "cell_type": "code",
   "execution_count": 9,
   "metadata": {
    "collapsed": false
   },
   "outputs": [],
   "source": [
    "%%R\n",
    "# 豆瓣API\n",
    "url <- \"https://api.douban.com/v2/movie/1292052\"\n",
    "library(rvest)\n",
    "result <- read_html(url)\n",
    "result <- html_nodes(result, \"p\") %>% html_text()"
   ]
  },
  {
   "cell_type": "code",
   "execution_count": 39,
   "metadata": {
    "collapsed": false
   },
   "outputs": [
    {
     "data": {
      "text/plain": [
       "[1] \"character\"\n"
      ]
     },
     "metadata": {},
     "output_type": "display_data"
    }
   ],
   "source": [
    "%%R\n",
    "class(result)"
   ]
  },
  {
   "cell_type": "code",
   "execution_count": 28,
   "metadata": {
    "collapsed": false
   },
   "outputs": [],
   "source": [
    "%%R\n",
    "# 这是json(javascript online notation)格式的文件，可以利用rjson中的函数fromJSON将其转化为结构化的数据。\n",
    "Movie = rjson::fromJSON(result)"
   ]
  },
  {
   "cell_type": "code",
   "execution_count": 29,
   "metadata": {
    "collapsed": false
   },
   "outputs": [
    {
     "data": {
      "text/plain": [
       "$rating\n",
       "$rating$max\n",
       "[1] 10\n",
       "\n",
       "$rating$average\n",
       "[1] \"9.6\"\n",
       "\n",
       "$rating$numRaters\n",
       "[1] 684289\n",
       "\n",
       "$rating$min\n",
       "[1] 0\n",
       "\n",
       "\n",
       "$author\n",
       "$author[[1]]\n",
       "$author[[1]]$name\n",
       "[1] \"弗兰克·德拉邦特 Frank Darabont\"\n",
       "\n",
       "\n",
       "\n",
       "$alt_title\n",
       "[1] \"肖申克的救赎 / 月黑高飞(港)\"\n",
       "\n",
       "$image\n",
       "[1] \"https://img1.doubanio.com/view/movie_poster_cover/ipst/public/p480747492.jpg\"\n",
       "\n",
       "$title\n",
       "[1] \"The Shawshank Redemption\"\n",
       "\n",
       "$summary\n",
       "[1] \"20世纪40年代末，小有成就的青年银行家安迪（蒂姆·罗宾斯 Tim Robbins 饰）因涉嫌杀害妻子及她的情人而锒铛入狱。在这座名为肖申克的监狱内，希望似乎虚无缥缈，终身监禁的惩罚无疑注定了安迪接下来灰暗绝望的人生。未过多久，安迪尝试接近囚犯中颇有声望的瑞德（摩根·弗里曼 Morgan Freeman 饰），请求对方帮自己搞来小锤子。以此为契机，二人逐渐熟稔，安迪也仿佛在鱼龙混杂、罪恶横生、黑白混淆的牢狱中找到属于自己的求生之道。他利用自身的专业知识，帮助监狱管理层逃税、洗黑钱，同时凭借与瑞德的交往在犯人中间也渐渐受到礼遇。表面看来，他已如瑞德那样对那堵高墙从憎恨转变为处之泰然，但是对自由的渴望仍促使他朝着心中的希望和目标前进。而关于其罪行的真相，似乎更使这一切朝前推进了一步……\\n本片根据著名作家斯蒂芬·金（Stephen Edwin King）的原著改编。\"\n",
       "\n",
       "$attrs\n",
       "$attrs$pubdate\n",
       "[1] \"1994-09-10(多伦多电影节)\" \"1994-10-14(美国)\"        \n",
       "\n",
       "$attrs$language\n",
       "[1] \"英语\"\n",
       "\n",
       "$attrs$title\n",
       "[1] \"The Shawshank Redemption\"\n",
       "\n",
       "$attrs$country\n",
       "[1] \"美国\"\n",
       "\n",
       "$attrs$writer\n",
       "[1] \"弗兰克·德拉邦特 Frank Darabont\" \"斯蒂芬·金 Stephen King\"        \n",
       "\n",
       "$attrs$director\n",
       "[1] \"弗兰克·德拉邦特 Frank Darabont\"\n",
       "\n",
       "$attrs$cast\n",
       " [1] \"蒂姆·罗宾斯 Tim Robbins\"           \"摩根·弗里曼 Morgan Freeman\"       \n",
       " [3] \"鲍勃·冈顿 Bob Gunton\"              \"威廉姆·赛德勒 William Sadler\"     \n",
       " [5] \"克兰西·布朗 Clancy Brown\"          \"吉尔·贝罗斯 Gil Bellows\"          \n",
       " [7] \"马克·罗斯顿 Mark Rolston\"          \"詹姆斯·惠特摩 James Whitmore\"     \n",
       " [9] \"杰弗里·德曼 Jeffrey DeMunn\"        \"拉里·布兰登伯格 Larry Brandenburg\"\n",
       "[11] \"尼尔·吉恩托利 Neil Giuntoli\"       \"布赖恩·利比 Brian Libby\"          \n",
       "[13] \"大卫·普罗瓦尔 David Proval\"        \"约瑟夫·劳格诺 Joseph Ragno\"       \n",
       "[15] \"祖德·塞克利拉 Jude Ciccolella\"    \n",
       "\n",
       "$attrs$movie_duration\n",
       "[1] \"142 分钟\"\n",
       "\n",
       "$attrs$year\n",
       "[1] \"1994\"\n",
       "\n",
       "$attrs$movie_type\n",
       "[1] \"犯罪\" \"剧情\"\n",
       "\n",
       "\n",
       "$id\n",
       "[1] \"http://api.douban.com/movie/1292052\"\n",
       "\n",
       "$mobile_link\n",
       "[1] \"http://m.douban.com/movie/subject/1292052/\"\n",
       "\n",
       "$alt\n",
       "[1] \"http://movie.douban.com/movie/1292052\"\n",
       "\n",
       "$tags\n",
       "$tags[[1]]\n",
       "$tags[[1]]$count\n",
       "[1] 144089\n",
       "\n",
       "$tags[[1]]$name\n",
       "[1] \"经典\"\n",
       "\n",
       "\n",
       "$tags[[2]]\n",
       "$tags[[2]]$count\n",
       "[1] 118188\n",
       "\n",
       "$tags[[2]]$name\n",
       "[1] \"励志\"\n",
       "\n",
       "\n",
       "$tags[[3]]\n",
       "$tags[[3]]$count\n",
       "[1] 99575\n",
       "\n",
       "$tags[[3]]$name\n",
       "[1] \"信念\"\n",
       "\n",
       "\n",
       "$tags[[4]]\n",
       "$tags[[4]]$count\n",
       "[1] 85091\n",
       "\n",
       "$tags[[4]]$name\n",
       "[1] \"自由\"\n",
       "\n",
       "\n",
       "$tags[[5]]\n",
       "$tags[[5]]$count\n",
       "[1] 71856\n",
       "\n",
       "$tags[[5]]$name\n",
       "[1] \"美国\"\n",
       "\n",
       "\n",
       "$tags[[6]]\n",
       "$tags[[6]]$count\n",
       "[1] 58312\n",
       "\n",
       "$tags[[6]]$name\n",
       "[1] \"人性\"\n",
       "\n",
       "\n",
       "$tags[[7]]\n",
       "$tags[[7]]$count\n",
       "[1] 37275\n",
       "\n",
       "$tags[[7]]$name\n",
       "[1] \"剧情\"\n",
       "\n",
       "\n",
       "$tags[[8]]\n",
       "$tags[[8]]$count\n",
       "[1] 37037\n",
       "\n",
       "$tags[[8]]$name\n",
       "[1] \"人生\"\n",
       "\n",
       "\n",
       "\n"
      ]
     },
     "metadata": {},
     "output_type": "display_data"
    }
   ],
   "source": [
    "%%R\n",
    "Movie"
   ]
  },
  {
   "cell_type": "code",
   "execution_count": null,
   "metadata": {
    "collapsed": true
   },
   "outputs": [],
   "source": []
  }
 ],
 "metadata": {
  "kernelspec": {
   "display_name": "Python 2",
   "language": "python",
   "name": "python2"
  },
  "language_info": {
   "codemirror_mode": {
    "name": "ipython",
    "version": 2
   },
   "file_extension": ".py",
   "mimetype": "text/x-python",
   "name": "python",
   "nbconvert_exporter": "python",
   "pygments_lexer": "ipython2",
   "version": "2.7.11"
  }
 },
 "nbformat": 4,
 "nbformat_minor": 0
}
